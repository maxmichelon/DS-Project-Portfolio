{
 "cells": [
  {
   "cell_type": "code",
   "execution_count": 288,
   "id": "f189f4f6",
   "metadata": {},
   "outputs": [],
   "source": [
    "# Initialize Otter\n",
    "import otter\n",
    "grader = otter.Notebook()"
   ]
  },
  {
   "cell_type": "code",
   "execution_count": 289,
   "id": "71329bd0",
   "metadata": {},
   "outputs": [],
   "source": [
    "# Imports\n",
    "import pandas as pd\n",
    "import numpy as np\n",
    "import matplotlib.pyplot as plt\n",
    "import seaborn as sns\n",
    "import sklearn\n",
    "from sklearn.linear_model import LogisticRegression"
   ]
  },
  {
   "cell_type": "markdown",
   "id": "69967e34",
   "metadata": {},
   "source": [
    "# Project 2: Logistic Regression and Classification\n",
    "## Due Date:  Wednesday November 30th, 11:59 PM\n",
    "\n",
    "## This Assignment\n",
    "\n",
    "In this project, you will be attempting to predict whether a flight will be delayed or not depending on measureable characteristics about the flight. You will:\n",
    "\n",
    "1) Perform some initial exploratory data analysis\n",
    "\n",
    "2) Fit models of varying complexity and evaluate which is best\n",
    "\n",
    "3) Assess how adjusting the classification threshold affects different metrics of your classifier\n",
    "\n",
    "\n",
    "## Collaboration Policy\n",
    "\n",
    "Data science is a collaborative activity. While you may talk with others about the assignment, we ask that you **write your solutions individually**. If you do discuss the assignments with others please **include their names** in the cell below."
   ]
  },
  {
   "cell_type": "markdown",
   "id": "a86047a3",
   "metadata": {},
   "source": [
    "### Read in airport data"
   ]
  },
  {
   "cell_type": "code",
   "execution_count": 290,
   "id": "fd82e422",
   "metadata": {},
   "outputs": [],
   "source": [
    "# Read in flight delays\n",
    "delays = pd.read_csv(\"./data/flightdelay.csv\")\n",
    "# Read in airport coordinates\n",
    "airport_coord = pd.read_csv(\"./data/airport_coordinates.csv\")"
   ]
  },
  {
   "cell_type": "code",
   "execution_count": 291,
   "id": "a6ee639b",
   "metadata": {},
   "outputs": [
    {
     "data": {
      "text/html": [
       "<div>\n",
       "<style scoped>\n",
       "    .dataframe tbody tr th:only-of-type {\n",
       "        vertical-align: middle;\n",
       "    }\n",
       "\n",
       "    .dataframe tbody tr th {\n",
       "        vertical-align: top;\n",
       "    }\n",
       "\n",
       "    .dataframe thead th {\n",
       "        text-align: right;\n",
       "    }\n",
       "</style>\n",
       "<table border=\"1\" class=\"dataframe\">\n",
       "  <thead>\n",
       "    <tr style=\"text-align: right;\">\n",
       "      <th></th>\n",
       "      <th>Unnamed: 0</th>\n",
       "      <th>MONTH</th>\n",
       "      <th>DAY_OF_WEEK</th>\n",
       "      <th>DEP_DEL15</th>\n",
       "      <th>DEP_TIME_BLK</th>\n",
       "      <th>DISTANCE_GROUP</th>\n",
       "      <th>SEGMENT_NUMBER</th>\n",
       "      <th>CONCURRENT_FLIGHTS</th>\n",
       "      <th>NUMBER_OF_SEATS</th>\n",
       "      <th>CARRIER_NAME</th>\n",
       "      <th>AIRPORT_FLIGHTS_MONTH</th>\n",
       "      <th>AIRLINE_FLIGHTS_MONTH</th>\n",
       "      <th>PLANE_AGE</th>\n",
       "      <th>DEPARTING_AIRPORT</th>\n",
       "      <th>PREVIOUS_AIRPORT</th>\n",
       "      <th>PRCP</th>\n",
       "      <th>SNOW</th>\n",
       "      <th>SNWD</th>\n",
       "      <th>TMAX</th>\n",
       "      <th>AWND</th>\n",
       "    </tr>\n",
       "  </thead>\n",
       "  <tbody>\n",
       "    <tr>\n",
       "      <th>0</th>\n",
       "      <td>202348</td>\n",
       "      <td>1</td>\n",
       "      <td>7</td>\n",
       "      <td>0</td>\n",
       "      <td>0700-0759</td>\n",
       "      <td>1</td>\n",
       "      <td>1</td>\n",
       "      <td>29</td>\n",
       "      <td>76</td>\n",
       "      <td>Endeavor Air Inc.</td>\n",
       "      <td>10278</td>\n",
       "      <td>19857</td>\n",
       "      <td>10</td>\n",
       "      <td>John F. Kennedy International</td>\n",
       "      <td>NONE</td>\n",
       "      <td>0.0</td>\n",
       "      <td>0.0</td>\n",
       "      <td>0.0</td>\n",
       "      <td>33.0</td>\n",
       "      <td>11.41</td>\n",
       "    </tr>\n",
       "    <tr>\n",
       "      <th>1</th>\n",
       "      <td>4309162</td>\n",
       "      <td>8</td>\n",
       "      <td>7</td>\n",
       "      <td>1</td>\n",
       "      <td>2100-2159</td>\n",
       "      <td>11</td>\n",
       "      <td>5</td>\n",
       "      <td>3</td>\n",
       "      <td>181</td>\n",
       "      <td>Alaska Airlines Inc.</td>\n",
       "      <td>1427</td>\n",
       "      <td>24460</td>\n",
       "      <td>3</td>\n",
       "      <td>Keahole</td>\n",
       "      <td>Seattle International</td>\n",
       "      <td>0.0</td>\n",
       "      <td>0.0</td>\n",
       "      <td>0.0</td>\n",
       "      <td>88.0</td>\n",
       "      <td>9.62</td>\n",
       "    </tr>\n",
       "    <tr>\n",
       "      <th>2</th>\n",
       "      <td>2944942</td>\n",
       "      <td>6</td>\n",
       "      <td>2</td>\n",
       "      <td>1</td>\n",
       "      <td>1200-1259</td>\n",
       "      <td>10</td>\n",
       "      <td>2</td>\n",
       "      <td>26</td>\n",
       "      <td>154</td>\n",
       "      <td>United Air Lines Inc.</td>\n",
       "      <td>5971</td>\n",
       "      <td>53737</td>\n",
       "      <td>21</td>\n",
       "      <td>Washington Dulles International</td>\n",
       "      <td>Orlando International</td>\n",
       "      <td>0.0</td>\n",
       "      <td>0.0</td>\n",
       "      <td>0.0</td>\n",
       "      <td>87.0</td>\n",
       "      <td>4.70</td>\n",
       "    </tr>\n",
       "    <tr>\n",
       "      <th>3</th>\n",
       "      <td>2863511</td>\n",
       "      <td>6</td>\n",
       "      <td>7</td>\n",
       "      <td>0</td>\n",
       "      <td>1600-1659</td>\n",
       "      <td>3</td>\n",
       "      <td>3</td>\n",
       "      <td>5</td>\n",
       "      <td>76</td>\n",
       "      <td>SkyWest Airlines Inc.</td>\n",
       "      <td>9694</td>\n",
       "      <td>71188</td>\n",
       "      <td>2</td>\n",
       "      <td>Salt Lake City International</td>\n",
       "      <td>San Francisco International</td>\n",
       "      <td>0.0</td>\n",
       "      <td>0.0</td>\n",
       "      <td>0.0</td>\n",
       "      <td>86.0</td>\n",
       "      <td>15.21</td>\n",
       "    </tr>\n",
       "    <tr>\n",
       "      <th>4</th>\n",
       "      <td>5738468</td>\n",
       "      <td>11</td>\n",
       "      <td>1</td>\n",
       "      <td>0</td>\n",
       "      <td>0800-0859</td>\n",
       "      <td>1</td>\n",
       "      <td>2</td>\n",
       "      <td>31</td>\n",
       "      <td>76</td>\n",
       "      <td>Endeavor Air Inc.</td>\n",
       "      <td>12563</td>\n",
       "      <td>20783</td>\n",
       "      <td>10</td>\n",
       "      <td>Logan International</td>\n",
       "      <td>Greater Buffalo International</td>\n",
       "      <td>0.0</td>\n",
       "      <td>0.0</td>\n",
       "      <td>0.0</td>\n",
       "      <td>54.0</td>\n",
       "      <td>8.50</td>\n",
       "    </tr>\n",
       "  </tbody>\n",
       "</table>\n",
       "</div>"
      ],
      "text/plain": [
       "   Unnamed: 0  MONTH  DAY_OF_WEEK  DEP_DEL15 DEP_TIME_BLK  DISTANCE_GROUP  \\\n",
       "0      202348      1            7          0    0700-0759               1   \n",
       "1     4309162      8            7          1    2100-2159              11   \n",
       "2     2944942      6            2          1    1200-1259              10   \n",
       "3     2863511      6            7          0    1600-1659               3   \n",
       "4     5738468     11            1          0    0800-0859               1   \n",
       "\n",
       "   SEGMENT_NUMBER  CONCURRENT_FLIGHTS  NUMBER_OF_SEATS           CARRIER_NAME  \\\n",
       "0               1                  29               76      Endeavor Air Inc.   \n",
       "1               5                   3              181   Alaska Airlines Inc.   \n",
       "2               2                  26              154  United Air Lines Inc.   \n",
       "3               3                   5               76  SkyWest Airlines Inc.   \n",
       "4               2                  31               76      Endeavor Air Inc.   \n",
       "\n",
       "   AIRPORT_FLIGHTS_MONTH  AIRLINE_FLIGHTS_MONTH  PLANE_AGE  \\\n",
       "0                  10278                  19857         10   \n",
       "1                   1427                  24460          3   \n",
       "2                   5971                  53737         21   \n",
       "3                   9694                  71188          2   \n",
       "4                  12563                  20783         10   \n",
       "\n",
       "                 DEPARTING_AIRPORT               PREVIOUS_AIRPORT  PRCP  SNOW  \\\n",
       "0    John F. Kennedy International                           NONE   0.0   0.0   \n",
       "1                          Keahole          Seattle International   0.0   0.0   \n",
       "2  Washington Dulles International          Orlando International   0.0   0.0   \n",
       "3     Salt Lake City International    San Francisco International   0.0   0.0   \n",
       "4              Logan International  Greater Buffalo International   0.0   0.0   \n",
       "\n",
       "   SNWD  TMAX   AWND  \n",
       "0   0.0  33.0  11.41  \n",
       "1   0.0  88.0   9.62  \n",
       "2   0.0  87.0   4.70  \n",
       "3   0.0  86.0  15.21  \n",
       "4   0.0  54.0   8.50  "
      ]
     },
     "execution_count": 291,
     "metadata": {},
     "output_type": "execute_result"
    }
   ],
   "source": [
    "delays.head()"
   ]
  },
  {
   "cell_type": "code",
   "execution_count": 292,
   "id": "36eaf0f1",
   "metadata": {},
   "outputs": [
    {
     "data": {
      "text/html": [
       "<div>\n",
       "<style scoped>\n",
       "    .dataframe tbody tr th:only-of-type {\n",
       "        vertical-align: middle;\n",
       "    }\n",
       "\n",
       "    .dataframe tbody tr th {\n",
       "        vertical-align: top;\n",
       "    }\n",
       "\n",
       "    .dataframe thead th {\n",
       "        text-align: right;\n",
       "    }\n",
       "</style>\n",
       "<table border=\"1\" class=\"dataframe\">\n",
       "  <thead>\n",
       "    <tr style=\"text-align: right;\">\n",
       "      <th></th>\n",
       "      <th>DISPLAY_AIRPORT_NAME</th>\n",
       "      <th>LATITUDE</th>\n",
       "      <th>LONGITUDE</th>\n",
       "    </tr>\n",
       "  </thead>\n",
       "  <tbody>\n",
       "    <tr>\n",
       "      <th>0</th>\n",
       "      <td>AFOGNAK_LAKE_AIRPORT</td>\n",
       "      <td>58.109444</td>\n",
       "      <td>-152.906667</td>\n",
       "    </tr>\n",
       "    <tr>\n",
       "      <th>1</th>\n",
       "      <td>BEAR_CREEK_MINING_STRIP</td>\n",
       "      <td>65.548056</td>\n",
       "      <td>-161.071667</td>\n",
       "    </tr>\n",
       "    <tr>\n",
       "      <th>2</th>\n",
       "      <td>LIK_MINING_CAMP</td>\n",
       "      <td>68.083333</td>\n",
       "      <td>-163.166667</td>\n",
       "    </tr>\n",
       "    <tr>\n",
       "      <th>3</th>\n",
       "      <td>LITTLE_SQUAW_AIRPORT</td>\n",
       "      <td>67.570000</td>\n",
       "      <td>-148.183889</td>\n",
       "    </tr>\n",
       "    <tr>\n",
       "      <th>4</th>\n",
       "      <td>KIZHUYAK_BAY</td>\n",
       "      <td>57.745278</td>\n",
       "      <td>-152.882778</td>\n",
       "    </tr>\n",
       "  </tbody>\n",
       "</table>\n",
       "</div>"
      ],
      "text/plain": [
       "      DISPLAY_AIRPORT_NAME   LATITUDE   LONGITUDE\n",
       "0     AFOGNAK_LAKE_AIRPORT  58.109444 -152.906667\n",
       "1  BEAR_CREEK_MINING_STRIP  65.548056 -161.071667\n",
       "2          LIK_MINING_CAMP  68.083333 -163.166667\n",
       "3     LITTLE_SQUAW_AIRPORT  67.570000 -148.183889\n",
       "4             KIZHUYAK_BAY  57.745278 -152.882778"
      ]
     },
     "execution_count": 292,
     "metadata": {},
     "output_type": "execute_result"
    }
   ],
   "source": [
    "airport_coord.head()"
   ]
  },
  {
   "cell_type": "markdown",
   "id": "d834809f",
   "metadata": {},
   "source": [
    "You should reference raw data documention included in the data folder to evaluate the meaning of each variable. In particular, be sure to identify the variable representing our \"target\" in this assignment: whether a flight is delayed or not. "
   ]
  },
  {
   "cell_type": "markdown",
   "id": "4f5cd2c5",
   "metadata": {},
   "source": [
    "## Part 1: Initial cleaning"
   ]
  },
  {
   "cell_type": "markdown",
   "id": "2445aabe",
   "metadata": {},
   "source": [
    "Again, our objective in this project is to **develop a model that can predict whether a flight will be delayed or not** to some efficacy.\n",
    "\n",
    "Before we start cramming features into different models, we should first do some data visualization to develop some intuition for which variables might be predictive of flight delays."
   ]
  },
  {
   "cell_type": "markdown",
   "id": "b8a9525b",
   "metadata": {},
   "source": [
    "#### Question 1.1\n",
    "Two variables we might be interested in - latitude and longitude - are in a separate table called `airport_coord`. Let's get everything in one object. Canonicalize the airport names in `delays` and `airport_coord` so that they can be joined. "
   ]
  },
  {
   "cell_type": "code",
   "execution_count": 293,
   "id": "5ccb99ba",
   "metadata": {},
   "outputs": [],
   "source": [
    "delays['DEPARTING_AIRPORT'] = delays['DEPARTING_AIRPORT'].str.lower().replace('_', ' ', regex = True)\n",
    "airport_coord['DISPLAY_AIRPORT_NAME'] = airport_coord['DISPLAY_AIRPORT_NAME'].str.lower().replace('_', ' ', regex = True)"
   ]
  },
  {
   "cell_type": "markdown",
   "id": "1df04ee9",
   "metadata": {},
   "source": [
    "#### Question 1.2\n",
    "\n",
    "Now add latitude and longitude columns to the `delays` by merging the datasets on `DEPARTING_AIRPORT` in `delays`. NA values are a problem for model fitting, so drop all NAs in the data."
   ]
  },
  {
   "cell_type": "code",
   "execution_count": 294,
   "id": "b98e4e31",
   "metadata": {},
   "outputs": [
    {
     "data": {
      "text/html": [
       "<div>\n",
       "<style scoped>\n",
       "    .dataframe tbody tr th:only-of-type {\n",
       "        vertical-align: middle;\n",
       "    }\n",
       "\n",
       "    .dataframe tbody tr th {\n",
       "        vertical-align: top;\n",
       "    }\n",
       "\n",
       "    .dataframe thead th {\n",
       "        text-align: right;\n",
       "    }\n",
       "</style>\n",
       "<table border=\"1\" class=\"dataframe\">\n",
       "  <thead>\n",
       "    <tr style=\"text-align: right;\">\n",
       "      <th></th>\n",
       "      <th>Unnamed: 0</th>\n",
       "      <th>MONTH</th>\n",
       "      <th>DAY_OF_WEEK</th>\n",
       "      <th>DEP_DEL15</th>\n",
       "      <th>DEP_TIME_BLK</th>\n",
       "      <th>DISTANCE_GROUP</th>\n",
       "      <th>SEGMENT_NUMBER</th>\n",
       "      <th>CONCURRENT_FLIGHTS</th>\n",
       "      <th>NUMBER_OF_SEATS</th>\n",
       "      <th>CARRIER_NAME</th>\n",
       "      <th>...</th>\n",
       "      <th>DEPARTING_AIRPORT</th>\n",
       "      <th>PREVIOUS_AIRPORT</th>\n",
       "      <th>PRCP</th>\n",
       "      <th>SNOW</th>\n",
       "      <th>SNWD</th>\n",
       "      <th>TMAX</th>\n",
       "      <th>AWND</th>\n",
       "      <th>DISPLAY_AIRPORT_NAME</th>\n",
       "      <th>LATITUDE</th>\n",
       "      <th>LONGITUDE</th>\n",
       "    </tr>\n",
       "  </thead>\n",
       "  <tbody>\n",
       "    <tr>\n",
       "      <th>0</th>\n",
       "      <td>202348</td>\n",
       "      <td>1</td>\n",
       "      <td>7</td>\n",
       "      <td>0</td>\n",
       "      <td>0700-0759</td>\n",
       "      <td>1</td>\n",
       "      <td>1</td>\n",
       "      <td>29</td>\n",
       "      <td>76</td>\n",
       "      <td>Endeavor Air Inc.</td>\n",
       "      <td>...</td>\n",
       "      <td>john f. kennedy international</td>\n",
       "      <td>NONE</td>\n",
       "      <td>0.00</td>\n",
       "      <td>0.0</td>\n",
       "      <td>0.0</td>\n",
       "      <td>33.0</td>\n",
       "      <td>11.41</td>\n",
       "      <td>john f. kennedy international</td>\n",
       "      <td>40.638611</td>\n",
       "      <td>-73.776944</td>\n",
       "    </tr>\n",
       "    <tr>\n",
       "      <th>1</th>\n",
       "      <td>5841131</td>\n",
       "      <td>11</td>\n",
       "      <td>2</td>\n",
       "      <td>0</td>\n",
       "      <td>2100-2159</td>\n",
       "      <td>2</td>\n",
       "      <td>6</td>\n",
       "      <td>16</td>\n",
       "      <td>50</td>\n",
       "      <td>Endeavor Air Inc.</td>\n",
       "      <td>...</td>\n",
       "      <td>john f. kennedy international</td>\n",
       "      <td>Portland International Jetport</td>\n",
       "      <td>0.02</td>\n",
       "      <td>0.0</td>\n",
       "      <td>0.0</td>\n",
       "      <td>58.0</td>\n",
       "      <td>17.67</td>\n",
       "      <td>john f. kennedy international</td>\n",
       "      <td>40.638611</td>\n",
       "      <td>-73.776944</td>\n",
       "    </tr>\n",
       "    <tr>\n",
       "      <th>2</th>\n",
       "      <td>1103561</td>\n",
       "      <td>3</td>\n",
       "      <td>5</td>\n",
       "      <td>0</td>\n",
       "      <td>1900-1959</td>\n",
       "      <td>5</td>\n",
       "      <td>4</td>\n",
       "      <td>27</td>\n",
       "      <td>191</td>\n",
       "      <td>Delta Air Lines Inc.</td>\n",
       "      <td>...</td>\n",
       "      <td>john f. kennedy international</td>\n",
       "      <td>Fort Lauderdale-Hollywood International</td>\n",
       "      <td>0.00</td>\n",
       "      <td>0.0</td>\n",
       "      <td>0.0</td>\n",
       "      <td>59.0</td>\n",
       "      <td>6.93</td>\n",
       "      <td>john f. kennedy international</td>\n",
       "      <td>40.638611</td>\n",
       "      <td>-73.776944</td>\n",
       "    </tr>\n",
       "    <tr>\n",
       "      <th>3</th>\n",
       "      <td>3120058</td>\n",
       "      <td>6</td>\n",
       "      <td>3</td>\n",
       "      <td>0</td>\n",
       "      <td>0700-0759</td>\n",
       "      <td>3</td>\n",
       "      <td>2</td>\n",
       "      <td>26</td>\n",
       "      <td>150</td>\n",
       "      <td>JetBlue Airways</td>\n",
       "      <td>...</td>\n",
       "      <td>john f. kennedy international</td>\n",
       "      <td>John F. Kennedy International</td>\n",
       "      <td>0.00</td>\n",
       "      <td>0.0</td>\n",
       "      <td>0.0</td>\n",
       "      <td>82.0</td>\n",
       "      <td>10.51</td>\n",
       "      <td>john f. kennedy international</td>\n",
       "      <td>40.638611</td>\n",
       "      <td>-73.776944</td>\n",
       "    </tr>\n",
       "    <tr>\n",
       "      <th>4</th>\n",
       "      <td>751743</td>\n",
       "      <td>2</td>\n",
       "      <td>1</td>\n",
       "      <td>0</td>\n",
       "      <td>0800-0859</td>\n",
       "      <td>4</td>\n",
       "      <td>2</td>\n",
       "      <td>35</td>\n",
       "      <td>70</td>\n",
       "      <td>SkyWest Airlines Inc.</td>\n",
       "      <td>...</td>\n",
       "      <td>john f. kennedy international</td>\n",
       "      <td>Pittsburgh International</td>\n",
       "      <td>0.10</td>\n",
       "      <td>0.0</td>\n",
       "      <td>0.0</td>\n",
       "      <td>42.0</td>\n",
       "      <td>14.09</td>\n",
       "      <td>john f. kennedy international</td>\n",
       "      <td>40.638611</td>\n",
       "      <td>-73.776944</td>\n",
       "    </tr>\n",
       "    <tr>\n",
       "      <th>...</th>\n",
       "      <td>...</td>\n",
       "      <td>...</td>\n",
       "      <td>...</td>\n",
       "      <td>...</td>\n",
       "      <td>...</td>\n",
       "      <td>...</td>\n",
       "      <td>...</td>\n",
       "      <td>...</td>\n",
       "      <td>...</td>\n",
       "      <td>...</td>\n",
       "      <td>...</td>\n",
       "      <td>...</td>\n",
       "      <td>...</td>\n",
       "      <td>...</td>\n",
       "      <td>...</td>\n",
       "      <td>...</td>\n",
       "      <td>...</td>\n",
       "      <td>...</td>\n",
       "      <td>...</td>\n",
       "      <td>...</td>\n",
       "      <td>...</td>\n",
       "    </tr>\n",
       "    <tr>\n",
       "      <th>324448</th>\n",
       "      <td>2536426</td>\n",
       "      <td>5</td>\n",
       "      <td>3</td>\n",
       "      <td>0</td>\n",
       "      <td>0900-0959</td>\n",
       "      <td>3</td>\n",
       "      <td>2</td>\n",
       "      <td>2</td>\n",
       "      <td>178</td>\n",
       "      <td>Spirit Air Lines</td>\n",
       "      <td>...</td>\n",
       "      <td>myrtle beach international</td>\n",
       "      <td>Nafec Atlantic City</td>\n",
       "      <td>0.12</td>\n",
       "      <td>0.0</td>\n",
       "      <td>0.0</td>\n",
       "      <td>76.0</td>\n",
       "      <td>5.37</td>\n",
       "      <td>myrtle beach international</td>\n",
       "      <td>33.679167</td>\n",
       "      <td>-78.929722</td>\n",
       "    </tr>\n",
       "    <tr>\n",
       "      <th>324449</th>\n",
       "      <td>3350762</td>\n",
       "      <td>7</td>\n",
       "      <td>2</td>\n",
       "      <td>0</td>\n",
       "      <td>1000-1059</td>\n",
       "      <td>2</td>\n",
       "      <td>3</td>\n",
       "      <td>4</td>\n",
       "      <td>149</td>\n",
       "      <td>Delta Air Lines Inc.</td>\n",
       "      <td>...</td>\n",
       "      <td>myrtle beach international</td>\n",
       "      <td>Atlanta Municipal</td>\n",
       "      <td>0.08</td>\n",
       "      <td>0.0</td>\n",
       "      <td>0.0</td>\n",
       "      <td>87.0</td>\n",
       "      <td>3.80</td>\n",
       "      <td>myrtle beach international</td>\n",
       "      <td>33.679167</td>\n",
       "      <td>-78.929722</td>\n",
       "    </tr>\n",
       "    <tr>\n",
       "      <th>324450</th>\n",
       "      <td>3154032</td>\n",
       "      <td>6</td>\n",
       "      <td>6</td>\n",
       "      <td>0</td>\n",
       "      <td>1700-1759</td>\n",
       "      <td>2</td>\n",
       "      <td>5</td>\n",
       "      <td>6</td>\n",
       "      <td>90</td>\n",
       "      <td>Comair Inc.</td>\n",
       "      <td>...</td>\n",
       "      <td>myrtle beach international</td>\n",
       "      <td>Philadelphia International</td>\n",
       "      <td>0.00</td>\n",
       "      <td>0.0</td>\n",
       "      <td>0.0</td>\n",
       "      <td>88.0</td>\n",
       "      <td>11.63</td>\n",
       "      <td>myrtle beach international</td>\n",
       "      <td>33.679167</td>\n",
       "      <td>-78.929722</td>\n",
       "    </tr>\n",
       "    <tr>\n",
       "      <th>324451</th>\n",
       "      <td>3712889</td>\n",
       "      <td>7</td>\n",
       "      <td>4</td>\n",
       "      <td>0</td>\n",
       "      <td>0700-0759</td>\n",
       "      <td>1</td>\n",
       "      <td>1</td>\n",
       "      <td>2</td>\n",
       "      <td>128</td>\n",
       "      <td>American Airlines Inc.</td>\n",
       "      <td>...</td>\n",
       "      <td>myrtle beach international</td>\n",
       "      <td>NONE</td>\n",
       "      <td>0.00</td>\n",
       "      <td>0.0</td>\n",
       "      <td>0.0</td>\n",
       "      <td>89.0</td>\n",
       "      <td>6.26</td>\n",
       "      <td>myrtle beach international</td>\n",
       "      <td>33.679167</td>\n",
       "      <td>-78.929722</td>\n",
       "    </tr>\n",
       "    <tr>\n",
       "      <th>324452</th>\n",
       "      <td>3713017</td>\n",
       "      <td>7</td>\n",
       "      <td>5</td>\n",
       "      <td>1</td>\n",
       "      <td>1600-1659</td>\n",
       "      <td>1</td>\n",
       "      <td>4</td>\n",
       "      <td>3</td>\n",
       "      <td>90</td>\n",
       "      <td>Comair Inc.</td>\n",
       "      <td>...</td>\n",
       "      <td>myrtle beach international</td>\n",
       "      <td>Douglas Municipal</td>\n",
       "      <td>0.00</td>\n",
       "      <td>0.0</td>\n",
       "      <td>0.0</td>\n",
       "      <td>86.0</td>\n",
       "      <td>8.50</td>\n",
       "      <td>myrtle beach international</td>\n",
       "      <td>33.679167</td>\n",
       "      <td>-78.929722</td>\n",
       "    </tr>\n",
       "  </tbody>\n",
       "</table>\n",
       "<p>324453 rows × 23 columns</p>\n",
       "</div>"
      ],
      "text/plain": [
       "        Unnamed: 0  MONTH  DAY_OF_WEEK  DEP_DEL15 DEP_TIME_BLK  \\\n",
       "0           202348      1            7          0    0700-0759   \n",
       "1          5841131     11            2          0    2100-2159   \n",
       "2          1103561      3            5          0    1900-1959   \n",
       "3          3120058      6            3          0    0700-0759   \n",
       "4           751743      2            1          0    0800-0859   \n",
       "...            ...    ...          ...        ...          ...   \n",
       "324448     2536426      5            3          0    0900-0959   \n",
       "324449     3350762      7            2          0    1000-1059   \n",
       "324450     3154032      6            6          0    1700-1759   \n",
       "324451     3712889      7            4          0    0700-0759   \n",
       "324452     3713017      7            5          1    1600-1659   \n",
       "\n",
       "        DISTANCE_GROUP  SEGMENT_NUMBER  CONCURRENT_FLIGHTS  NUMBER_OF_SEATS  \\\n",
       "0                    1               1                  29               76   \n",
       "1                    2               6                  16               50   \n",
       "2                    5               4                  27              191   \n",
       "3                    3               2                  26              150   \n",
       "4                    4               2                  35               70   \n",
       "...                ...             ...                 ...              ...   \n",
       "324448               3               2                   2              178   \n",
       "324449               2               3                   4              149   \n",
       "324450               2               5                   6               90   \n",
       "324451               1               1                   2              128   \n",
       "324452               1               4                   3               90   \n",
       "\n",
       "                  CARRIER_NAME  ...              DEPARTING_AIRPORT  \\\n",
       "0            Endeavor Air Inc.  ...  john f. kennedy international   \n",
       "1            Endeavor Air Inc.  ...  john f. kennedy international   \n",
       "2         Delta Air Lines Inc.  ...  john f. kennedy international   \n",
       "3              JetBlue Airways  ...  john f. kennedy international   \n",
       "4        SkyWest Airlines Inc.  ...  john f. kennedy international   \n",
       "...                        ...  ...                            ...   \n",
       "324448        Spirit Air Lines  ...     myrtle beach international   \n",
       "324449    Delta Air Lines Inc.  ...     myrtle beach international   \n",
       "324450             Comair Inc.  ...     myrtle beach international   \n",
       "324451  American Airlines Inc.  ...     myrtle beach international   \n",
       "324452             Comair Inc.  ...     myrtle beach international   \n",
       "\n",
       "                               PREVIOUS_AIRPORT  PRCP SNOW SNWD  TMAX   AWND  \\\n",
       "0                                          NONE  0.00  0.0  0.0  33.0  11.41   \n",
       "1                Portland International Jetport  0.02  0.0  0.0  58.0  17.67   \n",
       "2       Fort Lauderdale-Hollywood International  0.00  0.0  0.0  59.0   6.93   \n",
       "3                 John F. Kennedy International  0.00  0.0  0.0  82.0  10.51   \n",
       "4                      Pittsburgh International  0.10  0.0  0.0  42.0  14.09   \n",
       "...                                         ...   ...  ...  ...   ...    ...   \n",
       "324448                      Nafec Atlantic City  0.12  0.0  0.0  76.0   5.37   \n",
       "324449                        Atlanta Municipal  0.08  0.0  0.0  87.0   3.80   \n",
       "324450               Philadelphia International  0.00  0.0  0.0  88.0  11.63   \n",
       "324451                                     NONE  0.00  0.0  0.0  89.0   6.26   \n",
       "324452                        Douglas Municipal  0.00  0.0  0.0  86.0   8.50   \n",
       "\n",
       "                 DISPLAY_AIRPORT_NAME   LATITUDE  LONGITUDE  \n",
       "0       john f. kennedy international  40.638611 -73.776944  \n",
       "1       john f. kennedy international  40.638611 -73.776944  \n",
       "2       john f. kennedy international  40.638611 -73.776944  \n",
       "3       john f. kennedy international  40.638611 -73.776944  \n",
       "4       john f. kennedy international  40.638611 -73.776944  \n",
       "...                               ...        ...        ...  \n",
       "324448     myrtle beach international  33.679167 -78.929722  \n",
       "324449     myrtle beach international  33.679167 -78.929722  \n",
       "324450     myrtle beach international  33.679167 -78.929722  \n",
       "324451     myrtle beach international  33.679167 -78.929722  \n",
       "324452     myrtle beach international  33.679167 -78.929722  \n",
       "\n",
       "[324453 rows x 23 columns]"
      ]
     },
     "execution_count": 294,
     "metadata": {},
     "output_type": "execute_result"
    }
   ],
   "source": [
    "delays = delays.merge(airport_coord, left_on = \"DEPARTING_AIRPORT\", right_on = 'DISPLAY_AIRPORT_NAME')\n",
    "delays"
   ]
  },
  {
   "cell_type": "markdown",
   "id": "f1104f94",
   "metadata": {},
   "source": [
    "Be sure that the target variable is encoded as an integer."
   ]
  },
  {
   "cell_type": "code",
   "execution_count": 295,
   "id": "af30f263",
   "metadata": {},
   "outputs": [],
   "source": [
    "delays[\"DEP_DEL15\"] = delays[\"DEP_DEL15\"].astype(int)"
   ]
  },
  {
   "cell_type": "code",
   "execution_count": 296,
   "id": "8818a5a0",
   "metadata": {},
   "outputs": [
    {
     "data": {
      "text/html": [
       "<p><strong><pre style='display: inline;'>q1_3</pre></strong> passed! ✨</p>"
      ],
      "text/plain": [
       "q1_3 results: All test cases passed!"
      ]
     },
     "execution_count": 296,
     "metadata": {},
     "output_type": "execute_result"
    }
   ],
   "source": [
    "grader.check(\"q1_3\")"
   ]
  },
  {
   "cell_type": "markdown",
   "id": "b4ca1a5f",
   "metadata": {},
   "source": [
    "## Part 2: Variable exploration"
   ]
  },
  {
   "cell_type": "markdown",
   "id": "ce4f14de",
   "metadata": {},
   "source": [
    "A sensible early step in this process will be to assess whether certain variables associate with the likelihood of delays first and let that guide our modeling decisions."
   ]
  },
  {
   "cell_type": "markdown",
   "id": "5a803a7c",
   "metadata": {},
   "source": [
    "#### Question 2.1\n",
    "\n",
    "Create an appropriate figure to visualize the relationship between the probability of a delay and the month of the year"
   ]
  },
  {
   "cell_type": "code",
   "execution_count": 297,
   "id": "112893b5",
   "metadata": {
    "scrolled": true
   },
   "outputs": [
    {
     "data": {
      "text/plain": [
       "Text(0.5, 1.0, 'Probability of Flight Delay by Month')"
      ]
     },
     "execution_count": 297,
     "metadata": {},
     "output_type": "execute_result"
    },
    {
     "data": {
      "image/png": "[encoded data removed]",
      "text/plain": [
       "<Figure size 432x288 with 1 Axes>"
      ]
     },
     "metadata": {
      "needs_background": "light"
     },
     "output_type": "display_data"
    }
   ],
   "source": [
    "sns.barplot(data = delays, x = \"MONTH\", y = \"DEP_DEL15\")\n",
    "plt.title(\"Probability of Flight Delay by Month\") "
   ]
  },
  {
   "cell_type": "markdown",
   "id": "48d470ac",
   "metadata": {},
   "source": [
    "#### Question 2.2\n",
    "\n",
    "Based on your visualization, what times of year appear to see more flight delays? Can you infer why this might be the case?"
   ]
  },
  {
   "cell_type": "markdown",
   "id": "b56d586e",
   "metadata": {},
   "source": [
    "**Your response**: Based on the visualization it looks like february, May through August, and December all seem to experience higher probabilities of a delayed flights, as all their chances of delay are greater than 20%. For February and December this makes sense as Valentines and Christmas might cause an increased volume in traveling along with winter weather conditions potentially playing an effect. For May through August these are peak summer months and many people use this time to travel and with the increased volume of people traveling that also might increase the air traffic which in turn could increase flight delays. "
   ]
  },
  {
   "cell_type": "markdown",
   "id": "33e46331",
   "metadata": {},
   "source": [
    "#### Question 2.3 \n",
    "\n",
    "What about the time of day for a flight's departure? Create a visualization as above, but this time representing the probability of flight delay by departure window.\n",
    "\n",
    "Note that you should first engineer this feature such that it represents a quantitative variable. There are many approaches to this, but your resulting variable should represent the hour as a quantitative variable in even increments."
   ]
  },
  {
   "cell_type": "code",
   "execution_count": 298,
   "id": "7e96ae44-1f0b-403e-b6eb-a34f8a819adb",
   "metadata": {},
   "outputs": [],
   "source": [
    "delays['DEP_TIME_BLK'] = pd.to_datetime(delays['DEP_TIME_BLK'].str[:4], format = \"%H%M\").dt.hour"
   ]
  },
  {
   "cell_type": "code",
   "execution_count": 299,
   "id": "b4465d89",
   "metadata": {},
   "outputs": [
    {
     "data": {
      "text/plain": [
       "Text(0.5, 1.0, 'Probability of Flight Delay by Hour')"
      ]
     },
     "execution_count": 299,
     "metadata": {},
     "output_type": "execute_result"
    },
    {
     "data": {
      "image/png": "[encoded data removed]",
      "text/plain": [
       "<Figure size 432x288 with 1 Axes>"
      ]
     },
     "metadata": {
      "needs_background": "light"
     },
     "output_type": "display_data"
    }
   ],
   "source": [
    "sns.barplot(data = delays, x = \"DEP_TIME_BLK\", y = \"DEP_DEL15\")\n",
    "plt.title(\"Probability of Flight Delay by Hour\") "
   ]
  },
  {
   "cell_type": "markdown",
   "id": "f07e78a2",
   "metadata": {},
   "source": [
    "#### Question 2.4\n",
    "\n",
    "How does the probability of a delay change with the hour of departure? Why do you think this might be?"
   ]
  },
  {
   "cell_type": "markdown",
   "id": "fef4ea45",
   "metadata": {},
   "source": [
    "**Your response**: The probabilty of delay slightly increases each hour starting at 6am and peaking at 7pm or 9pm. This could be because most people like to fly in the afternoon or nighttime and so airport traffic and maybe air traffic is also busier which could be causing higher delays during these hours. "
   ]
  },
  {
   "cell_type": "markdown",
   "id": "86602b58",
   "metadata": {},
   "source": [
    "#### Question 2.5\n",
    "\n",
    "Choose two other variables and create an effective visualization of their relationship to flight delays. Note that if you choose a continuous quantitative variable, you might need to create a model to visualize the relationship (*e.g.* a logistic regression curve). "
   ]
  },
  {
   "cell_type": "code",
   "execution_count": 300,
   "id": "bc6fca2a",
   "metadata": {},
   "outputs": [
    {
     "data": {
      "text/plain": [
       "(array([ 0,  1,  2,  3,  4,  5,  6,  7,  8,  9, 10, 11, 12, 13, 14, 15, 16]),\n",
       " [Text(0, 0, 'Endeavor Air Inc.'),\n",
       "  Text(1, 0, 'Delta Air Lines Inc.'),\n",
       "  Text(2, 0, 'JetBlue Airways'),\n",
       "  Text(3, 0, 'SkyWest Airlines Inc.'),\n",
       "  Text(4, 0, 'American Airlines Inc.'),\n",
       "  Text(5, 0, 'American Eagle Airlines Inc.'),\n",
       "  Text(6, 0, 'Midwest Airline, Inc.'),\n",
       "  Text(7, 0, 'Alaska Airlines Inc.'),\n",
       "  Text(8, 0, 'Comair Inc.'),\n",
       "  Text(9, 0, 'Hawaiian Airlines Inc.'),\n",
       "  Text(10, 0, 'United Air Lines Inc.'),\n",
       "  Text(11, 0, 'Southwest Airlines Co.'),\n",
       "  Text(12, 0, 'Mesa Airlines Inc.'),\n",
       "  Text(13, 0, 'Atlantic Southeast Airlines'),\n",
       "  Text(14, 0, 'Frontier Airlines Inc.'),\n",
       "  Text(15, 0, 'Spirit Air Lines'),\n",
       "  Text(16, 0, 'Allegiant Air')])"
      ]
     },
     "execution_count": 300,
     "metadata": {},
     "output_type": "execute_result"
    },
    {
     "data": {
      "image/png": "[encoded data removed]",
      "text/plain": [
       "<Figure size 432x288 with 1 Axes>"
      ]
     },
     "metadata": {
      "needs_background": "light"
     },
     "output_type": "display_data"
    }
   ],
   "source": [
    "# Exploration 1\n",
    "sns.barplot(data = delays, x = \"CARRIER_NAME\", y = \"DEP_DEL15\")\n",
    "plt.title(\"Probability of Flight Delay by Airline\") \n",
    "plt.xticks(rotation = 90)\n",
    "\n",
    "# It looks like JetBlue Airways and Frontier Airlines Inc. are only two airlines with with flight delays over 25% in probability. "
   ]
  },
  {
   "cell_type": "code",
   "execution_count": 302,
   "id": "0bad8b0e",
   "metadata": {},
   "outputs": [
    {
     "data": {
      "text/plain": [
       "Text(0, 0.5, 'Probability of Delay')"
      ]
     },
     "execution_count": 302,
     "metadata": {},
     "output_type": "execute_result"
    },
    {
     "data": {
      "image/png": "[encoded data removed]",
      "text/plain": [
       "<Figure size 432x288 with 1 Axes>"
      ]
     },
     "metadata": {
      "needs_background": "light"
     },
     "output_type": "display_data"
    }
   ],
   "source": [
    "# Exploration 2\n",
    "# sampled_data = delays.sample(n = 10000) #It took a few minutes when I didn't sample it first\n",
    "sns.regplot(data=sampled_data, x='CONCURRENT_FLIGHTS', y='DEP_DEL15', logistic=True, y_jitter = 0.1, line_kws={\"color\": \"green\"})\n",
    "plt.title(\"Probability of Flight Delay vs Number of Concurrent Flights\")\n",
    "plt.xlabel('Number of Concurrent Flights')\n",
    "plt.ylabel('Probability of Delay')"
   ]
  },
  {
   "cell_type": "markdown",
   "id": "f8a33475",
   "metadata": {},
   "source": [
    "## Part 3: Fitting and evaluating models"
   ]
  },
  {
   "cell_type": "markdown",
   "id": "fcf5c579",
   "metadata": {},
   "source": [
    "In this section we are going to develop a series of models that will predict the probability of delay from some number of input features. We will ultimately assess which of these models is best using *k-fold* cross-validation. "
   ]
  },
  {
   "cell_type": "markdown",
   "id": "59f14e29",
   "metadata": {},
   "source": [
    "#### Question 3.1\n",
    "\n",
    "**Create 4 sets of predictive features**, each with a different combination of features that you feel may be apt for predicting delays. Ensure that you have different numbers of features in each set, and have one set with at least 8 features.\n",
    "\n",
    "*Note*: We are using subset selection to explore effective models. You do not need to standardize your features, though you may find it helpful for fitting your more complicated models."
   ]
  },
  {
   "cell_type": "code",
   "execution_count": 303,
   "id": "071ae0bc-df5e-47ab-8400-bc13a7733d3f",
   "metadata": {},
   "outputs": [],
   "source": [
    "from sklearn.preprocessing import StandardScaler\n",
    "scaler = StandardScaler() \n",
    "continuous_features = delays[[\"LATITUDE\", \"LONGITUDE\", \"AWND\", \"TMAX\", \"SNOW\", \"PRCP\", \"SNWD\", \"CONCURRENT_FLIGHTS\", \"DISTANCE_GROUP\", \"SEGMENT_NUMBER\", \"NUMBER_OF_SEATS\"]]\n",
    "scaled_feats = scaler.fit_transform(continuous_features)\n",
    "\n",
    "m1_cat = pd.DataFrame(delays, columns = [\"MONTH\", \"DAY_OF_WEEK\"])\n",
    "m1_scaled = pd.DataFrame(scaled_feats[:,[3]], columns = [\"TMAX\"])\n",
    "m1_features = pd.concat([m1_cat, m1_scaled], axis = 1)\n",
    "\n",
    "m2_cat = pd.DataFrame(delays, columns = [\"MONTH\"])\n",
    "m2_scaled = pd.DataFrame(scaled_feats[:, 2:6], columns = [\"AWND\", \"TMAX\", \"SNOW\", \"PRCP\"])\n",
    "m2_features = pd.concat([m2_cat, m2_scaled], axis = 1)\n",
    "\n",
    "m3_features = pd.DataFrame(scaled_feats[:, 0:8], columns = [\"LATITUDE\", \"LONGITUDE\", \"AWND\", \"TMAX\", \"SNOW\", \"PRCP\", \"SNWD\", \"CONCURRENT_FLIGHTS\"])\n",
    "\n",
    "m4_features = pd.DataFrame(scaled_feats[:, [4]], columns = [\"SNOW\"])"
   ]
  },
  {
   "cell_type": "markdown",
   "id": "a2a9afe2",
   "metadata": {},
   "source": [
    "#### Question 3.2"
   ]
  },
  {
   "cell_type": "markdown",
   "id": "ffd50bb8",
   "metadata": {},
   "source": [
    "Now use your features to develop 4 logistic regression models, using *k-fold* cross-validation to determine the error associated with each model. Use 5 splits for your cross-validation, and be sure to use the appropriate loss function to calculate your error. "
   ]
  },
  {
   "cell_type": "code",
   "execution_count": 304,
   "id": "90d81a9a-b89a-4f05-bcfd-c7710b4fbda6",
   "metadata": {},
   "outputs": [
    {
     "name": "stdout",
     "output_type": "stream",
     "text": [
      "Average Log Loss for Model 1: 0.4862189619241969\n",
      "Average Log Loss for Model 2: 0.48205307417768173\n",
      "Average Log Loss for Model 3: 0.4825895587808907\n",
      "Average Log Loss for Model 4: 0.4852938809946224\n"
     ]
    }
   ],
   "source": [
    "from sklearn.model_selection import train_test_split\n",
    "from sklearn.model_selection import KFold\n",
    "from sklearn.metrics import log_loss\n",
    "from sklearn.linear_model import LogisticRegression\n",
    "\n",
    "model_m1 = LogisticRegression()\n",
    "model_m2 = LogisticRegression()\n",
    "model_m3 = LogisticRegression()\n",
    "model_m4 = LogisticRegression()\n",
    "\n",
    "X1 = m1_features\n",
    "X2 = m2_features\n",
    "X3 = m3_features\n",
    "X4 = m4_features\n",
    "Y = delays[\"DEP_DEL15\"]\n",
    "\n",
    "avg_error_m1 = compute_CV_error(model_m1, X1, Y)\n",
    "avg_error_m2 = compute_CV_error(model_m2, X2, Y)\n",
    "avg_error_m3 = compute_CV_error(model_m3, X3, Y)\n",
    "avg_error_m4 = compute_CV_error(model_m4, X4, Y)\n",
    "\n",
    "avg_errors = [avg_error_m1, avg_error_m2, avg_error_m3, avg_error_m4]\n",
    "for i, errors in enumerate(avg_errors):\n",
    "    print(f\"Average Log Loss for Model {i+1}: {errors}\")"
   ]
  },
  {
   "cell_type": "code",
   "execution_count": 305,
   "id": "dbba984a",
   "metadata": {},
   "outputs": [],
   "source": [
    "def compute_CV_error(model, X_train, Y_train):\n",
    "    \n",
    "    kf = KFold(n_splits=5)\n",
    "    validation_errors = []\n",
    "    \n",
    "    for train_idx, valid_idx in kf.split(X_train):\n",
    "        split_X_train, split_X_valid = X_train.iloc[train_idx], X_train.iloc[valid_idx]\n",
    "        split_Y_train, split_Y_valid = Y_train.iloc[train_idx], Y_train.iloc[valid_idx]\n",
    "        \n",
    "        model.fit(split_X_train, split_Y_train)\n",
    "        Y_pred = model.predict_proba(split_X_valid)\n",
    "        \n",
    "        error = log_loss(split_Y_valid, Y_pred)\n",
    "        validation_errors.append(error)\n",
    "    \n",
    "    return np.mean(validation_errors)"
   ]
  },
  {
   "cell_type": "markdown",
   "id": "d7f0049f",
   "metadata": {},
   "source": [
    "#### Question 3.3\n",
    "\n",
    "Which model best fit your data? Why do you think it fit your data better compared to your other models?"
   ]
  },
  {
   "cell_type": "markdown",
   "id": "74984429",
   "metadata": {},
   "source": [
    "**Your response**: All of the models fit the data just about the same but model 2 marginally fits the data best at about 0.4820 average loss. This could be because it was a more balanced number of variables compared to the other models. Model 2 used 5 variables as predictors compared to the other models which used 3, 8, and 1 predictor variables. Too many variables might cause and overfit while too little variables might cause an underfit. With such little differences in log loss between the models though it seems that all of the variables have similar predictive capabilities. Maybe this is because flight delays are pretty unpredictable and so each variable used here has an equally likely chance to predict if a flight will be delayed or not. "
   ]
  },
  {
   "cell_type": "markdown",
   "id": "7be180b9",
   "metadata": {},
   "source": [
    "### Question 4\n",
    "\n",
    "Finally, let's calculate the accuracy, precision and recall of your model. "
   ]
  },
  {
   "cell_type": "markdown",
   "id": "895cd4a8",
   "metadata": {},
   "source": [
    "#### Question 4.1\n",
    "\n",
    "Predict a 0 or a 1 (no delay or delay) using your x holdout data. Then using your y holdout data, quantify the number of true positives, true negatives, false positives, and false negatives. Use the `model.predict()` function to do so. "
   ]
  },
  {
   "cell_type": "code",
   "execution_count": 1,
   "id": "25d2ec33",
   "metadata": {},
   "outputs": [
    {
     "ename": "NameError",
     "evalue": "name 'np' is not defined",
     "output_type": "error",
     "traceback": [
      "\u001b[0;31m---------------------------------------------------------------------------\u001b[0m",
      "\u001b[0;31mNameError\u001b[0m                                 Traceback (most recent call last)",
      "\u001b[0;32m<ipython-input-1-ae4614141b07>\u001b[0m in \u001b[0;36m<module>\u001b[0;34m\u001b[0m\n\u001b[1;32m      1\u001b[0m \u001b[0;32mfrom\u001b[0m \u001b[0msklearn\u001b[0m\u001b[0;34m.\u001b[0m\u001b[0mmetrics\u001b[0m \u001b[0;32mimport\u001b[0m \u001b[0mconfusion_matrix\u001b[0m\u001b[0;34m\u001b[0m\u001b[0;34m\u001b[0m\u001b[0m\n\u001b[0;32m----> 2\u001b[0;31m \u001b[0mnp\u001b[0m\u001b[0;34m.\u001b[0m\u001b[0mrandom\u001b[0m\u001b[0;34m.\u001b[0m\u001b[0mseed\u001b[0m\u001b[0;34m(\u001b[0m\u001b[0;36m25\u001b[0m\u001b[0;34m)\u001b[0m\u001b[0;34m\u001b[0m\u001b[0;34m\u001b[0m\u001b[0m\n\u001b[0m\u001b[1;32m      3\u001b[0m \u001b[0mX_train2\u001b[0m\u001b[0;34m,\u001b[0m \u001b[0mX_holdout2\u001b[0m\u001b[0;34m,\u001b[0m \u001b[0mY_train2\u001b[0m\u001b[0;34m,\u001b[0m \u001b[0mY_holdout_2\u001b[0m \u001b[0;34m=\u001b[0m \u001b[0mtrain_test_split\u001b[0m\u001b[0;34m(\u001b[0m\u001b[0mX2\u001b[0m\u001b[0;34m,\u001b[0m \u001b[0mY\u001b[0m\u001b[0;34m,\u001b[0m \u001b[0mtest_size\u001b[0m \u001b[0;34m=\u001b[0m \u001b[0;36m0.10\u001b[0m\u001b[0;34m)\u001b[0m\u001b[0;34m\u001b[0m\u001b[0;34m\u001b[0m\u001b[0m\n\u001b[1;32m      4\u001b[0m \u001b[0;34m\u001b[0m\u001b[0m\n\u001b[1;32m      5\u001b[0m \u001b[0;31m# Trained\u001b[0m\u001b[0;34m\u001b[0m\u001b[0;34m\u001b[0m\u001b[0;34m\u001b[0m\u001b[0m\n",
      "\u001b[0;31mNameError\u001b[0m: name 'np' is not defined"
     ]
    }
   ],
   "source": [
    "from sklearn.metrics import confusion_matrix\n",
    "np.random.seed(25)\n",
    "X_train2, X_holdout2, Y_train2, Y_holdout_2 = train_test_split(X2, Y, test_size = 0.10)\n",
    "\n",
    "# Trained\n",
    "trained = model_m2.fit(X_train2, Y_train2)\n",
    "# Predcitions\n",
    "Y_holdout_pred = model_m2.predict(X_holdout2)\n",
    "# Confusion matrix \n",
    "cm = confusion_matrix(Y_holdout_2, Y_holdout_pred)\n",
    "\n",
    "FP = cm.sum(axis=0) - np.diag(cm)  \n",
    "FN = cm.sum(axis=1) - np.diag(cm)\n",
    "TP = np.diag(cm)\n",
    "TN = cm.sum() - (FP + FN + TP)\n",
    "\n",
    "# Sensitivity, hit rate, recall, or true positive rate\n",
    "TPR = TP/(TP+FN)\n",
    "# Specificity or true negative rate\n",
    "TNR = TN/(TN+FP) \n",
    "# Fall out or false positive rate\n",
    "FPR = FP/(FP+TN)\n",
    "# False negative rate\n",
    "FNR = FN/(TP+FN)\n",
    "\n",
    "# Precision or positive predictive value\n",
    "PPV = TP/(TP+FP)\n",
    "# Overall accuracy\n",
    "ACC = (TP+TN)/(TP+FP+FN+TN)\n",
    "\n",
    "print(f\"False Positive: {FPR} and False Negative: {FNR}\")"
   ]
  },
  {
   "cell_type": "code",
   "execution_count": 307,
   "id": "3cdc7649",
   "metadata": {},
   "outputs": [
    {
     "name": "stdout",
     "output_type": "stream",
     "text": [
      "Model accuracy = [0.81181039 0.81181039], precision = [0.81248841 0.5375    ], and recall = [0.99859497 0.00703534]\n"
     ]
    }
   ],
   "source": [
    "accuracy = ACC\n",
    "precision = PPV\n",
    "recall = TPR\n",
    "\n",
    "print(f\"Model accuracy = {accuracy}, precision = {precision}, and recall = {recall}\")"
   ]
  },
  {
   "cell_type": "markdown",
   "id": "a77f98b7",
   "metadata": {},
   "source": [
    "#### Question 4.2\n",
    "\n",
    "Presume that you're interested in using your model as a decision-making tool to decide if a flight you've booked will be delayed. Do you think your model will is useful for this and why or why not?"
   ]
  },
  {
   "cell_type": "markdown",
   "id": "53a6195b",
   "metadata": {},
   "source": [
    "**Your response**: No I don't believe its very useful for predicting flight delays. The recall for predicting delays is only 0.7% which is not nearly good enough for me to feel comfortable using it as a decision making tool. It's also worth seeing that the precision for predicting delays is 53.75% so even when the model predicts a delay it is only right just over half of the time. Accuracy however does seem reasonably high at 81.11% but this could be because the models ability to correctly predict no delays is so high at 99.85%. Overall the model is not useful for its intended purpose of predicting flight delays but it is pretty good at prediciting flights that won't be delayed. "
   ]
  },
  {
   "cell_type": "markdown",
   "id": "831f700d",
   "metadata": {},
   "source": [
    "#### Question 4.3"
   ]
  },
  {
   "cell_type": "markdown",
   "id": "e67ec4ed",
   "metadata": {},
   "source": [
    "`sklearn.model.predict` uses a threshold of p=0.5 by default when predicting a 0 or 1 from your logistic model. Perhaps this threshold was too ambitious. Unless you found a *much* better model that I did, you likely predicted very few flight delays with >50% likelihood. Let's move forward by thinking of our model as a tool for flagging flights to watch out for instead."
   ]
  },
  {
   "cell_type": "markdown",
   "id": "53de7341",
   "metadata": {},
   "source": [
    "First, calculate the proportion of all flights delayed in the dataset. "
   ]
  },
  {
   "cell_type": "code",
   "execution_count": 308,
   "id": "f79d046c",
   "metadata": {},
   "outputs": [],
   "source": [
    "prop_delayed = np.sum(delays[\"DEP_DEL15\"] == 1) / len(delays[\"DEP_DEL15\"])"
   ]
  },
  {
   "cell_type": "code",
   "execution_count": 309,
   "id": "684efc16",
   "metadata": {},
   "outputs": [
    {
     "data": {
      "text/html": [
       "<p><strong><pre style='display: inline;'>q4_3</pre></strong> passed! 🙌</p>"
      ],
      "text/plain": [
       "q4_3 results: All test cases passed!"
      ]
     },
     "execution_count": 309,
     "metadata": {},
     "output_type": "execute_result"
    }
   ],
   "source": [
    "grader.check(\"q4_3\")"
   ]
  },
  {
   "cell_type": "markdown",
   "id": "d20b391f",
   "metadata": {},
   "source": [
    "#### Question 4.4\n",
    "\n",
    "This may represent a better baseline for our threshold than 0.5. Note that this will change our interpretation of a predicted class of 1; rather than a 1 representing a flight we think is *likely* to be delayed, a 1 will represent a flight we think has a *better chance than average* to be delayed. \n",
    "\n",
    "Using your best model, use `model.predict_proba()` to\n",
    "\n",
    "1) Return the predicted probabilties $[p_0, p_1]$ \n",
    "\n",
    "2) Identify which predictions have a $p_1$ greater than `prop_delayed` and classify these as 1\n",
    "\n",
    "3) Recalculate accuracy, precision, and recall"
   ]
  },
  {
   "cell_type": "code",
   "execution_count": 311,
   "id": "8e4420bd",
   "metadata": {},
   "outputs": [],
   "source": [
    "from sklearn.metrics import precision_score, recall_score, accuracy_score\n",
    "predicted_probabilities = model_m2.predict_proba(X_holdout2)\n",
    "# predicted_probabilities\n",
    "preds_greater = (predicted_probabilities[:, 1] > prop_delayed).astype(int)"
   ]
  },
  {
   "cell_type": "code",
   "execution_count": 312,
   "id": "2eceb8c0",
   "metadata": {},
   "outputs": [
    {
     "name": "stdout",
     "output_type": "stream",
     "text": [
      "Model accuracy = 0.634099734944215, precision = 0.23636030757964116, and recall = 0.4224476439790576\n"
     ]
    }
   ],
   "source": [
    "accuracy = accuracy_score(Y_holdout_2, preds_greater)\n",
    "precision = precision_score(Y_holdout_2, preds_greater)\n",
    "recall = recall_score(Y_holdout_2, preds_greater)\n",
    "\n",
    "print(f\"Model accuracy = {accuracy}, precision = {precision}, and recall = {recall}\")"
   ]
  },
  {
   "cell_type": "markdown",
   "id": "1c84d952",
   "metadata": {},
   "source": [
    "#### Question 4.5\n",
    "\n",
    "How did lowering the threshold of your classifier change its precision and recall, and what does this mean in terms of predicting flight delays?"
   ]
  },
  {
   "cell_type": "markdown",
   "id": "6e30a5c1",
   "metadata": {},
   "source": [
    "**Your response**: Lowering the threshold of the classifer significantly lowered precision and increased recall. This means that when the model predicts a flight will be delayed, only about 23.63% of these predicted flights will actually be delayed. The models recall went up to 42.24% meaning that the model will correctly predict 42.24% of all actual delays. This makes the model more sensitive to actual delays but also more likely to have false positives. The higher recall indicates that there is less chance of missing a real delay because the model is now more adept at identifying possible delays. The downside is that more flights are incorrectly reported as delayed."
   ]
  },
  {
   "cell_type": "markdown",
   "id": "012ccd90",
   "metadata": {},
   "source": [
    "#### Question 4.6\n",
    "\n",
    "Create a new variable representing a completely random guess for a flight delay, weighted by the observed likelihood of a delay. Calculate the accuracy, precision, and recall of your random guesses. \n",
    "\n",
    "How does your best model with this new threshold perform compared to a completely random guess? What does this imply about the usefulness of your model as a decision-making tool?"
   ]
  },
  {
   "cell_type": "code",
   "execution_count": 313,
   "id": "f0738ddf-8b1b-45a2-b9bf-055439a12d31",
   "metadata": {},
   "outputs": [
    {
     "name": "stdout",
     "output_type": "stream",
     "text": [
      "Accuracy = 0.6914257535597609, Precision = 0.18609143593045718, and Recall = 0.18913612565445026\n"
     ]
    }
   ],
   "source": [
    "n = len(Y_holdout_2)\n",
    "random_guess = np.random.choice([0, 1], size = n, p = [1 - prop_delayed, prop_delayed])\n",
    "accuracy = accuracy_score(Y_holdout_2, random_guess)\n",
    "precision = precision_score(Y_holdout_2, random_guess)\n",
    "recall = recall_score(Y_holdout_2, random_guess)\n",
    "print(f\"Accuracy = {accuracy}, Precision = {precision}, and Recall = {recall}\")"
   ]
  },
  {
   "cell_type": "markdown",
   "id": "2039444e",
   "metadata": {},
   "source": [
    "**Your response**: In comparing accuracy, precision, and recall between a random guess and my best model, accuracy is about 6%  higher in the random guess, precision is about 4% worse in the random guess, and recall is about 23% worse in the random guess. Overall it does show the model is more useful than a random guess as a 23% increase in recall is important for situations like this where predicting flight delays might be more important than a higher accuracy. The fact that a completely random guess outperformed the model at all exposes the models predictive capabilities but I would still use it over a completely random guess as a decision making tool when trying to anticipate flight delays. "
   ]
  },
  {
   "cell_type": "markdown",
   "id": "2230a078",
   "metadata": {},
   "source": [
    "#### Question 4.7\n",
    "\n",
    "Do flight delays seem relatively easy or challenging to predict? Why?"
   ]
  },
  {
   "cell_type": "markdown",
   "id": "a656ae97",
   "metadata": {},
   "source": [
    "**Your response**: They seem relatively challenging to predict. The complexity seems to come from the predictive power of the variables themselves where so far in my analyses none of the variables used seemed to outperform the others in predicting if a flight would be delayed or not. Many of these factors can contribute to a flight being delayed but with no single factor or combination of them offering a strong predictive ability it makes it quite challenging to predict a flights delay. It also might be worth noting some of these variables (such as AWND or TMAX) are weather conditions which can also be quite unpredictable and so might contribute to the difficulty of making a highly predictive model. Overall, the absence of a dominant predictive variable(s) and the unpredictable key factors going into the model makes predicting flight delays challenging. "
   ]
  },
  {
   "cell_type": "markdown",
   "id": "fbb53b00",
   "metadata": {},
   "source": [
    "### Question 5"
   ]
  },
  {
   "cell_type": "markdown",
   "id": "9c18fc4d",
   "metadata": {},
   "source": [
    "#### Question 5.1\n",
    "\n",
    "Use 5-fold cross-validation to compare the fit of every one of the following univariate predictors of delay: \n",
    "\n",
    "`['MONTH', 'DAY_OF_WEEK', 'DISTANCE_GROUP', 'SEGMENT_NUMBER', 'CONCURRENT_FLIGHTS', 'NUMBER_OF_SEATS', 'PLANE_AGE', 'PRCP', 'SNOW', 'SNWD', 'TMAX', 'AWND']`\n",
    "\n",
    "You sould therefore be cross-validating 12 single-feature models. Then, rank the predictors in order of best to worst fit.\n",
    "\n",
    "Next, create 8 logistic models with increasing numbers of predictors, starting with the best feature and then progressively adding the next best feature up to 8. This is called **forward step-wise subset selection**. If you run into fitting problems at the upper range of these models, be sure to standardize your variables and fit up to the number of features you're able to. \n",
    "\n",
    "Using the same threshold technique as in Q4.4, calculate the test data accuracy, precision and recall of the best model as determined by cross-validation. "
   ]
  },
  {
   "cell_type": "code",
   "execution_count": 314,
   "id": "152bd0d5",
   "metadata": {},
   "outputs": [],
   "source": [
    "# 12 models\n",
    "Y = delays[\"DEP_DEL15\"]\n",
    "features = ['MONTH', 'DAY_OF_WEEK', 'DISTANCE_GROUP', 'SEGMENT_NUMBER', 'CONCURRENT_FLIGHTS', 'NUMBER_OF_SEATS', 'PLANE_AGE', 'PRCP', 'SNOW', 'SNWD', 'TMAX', 'AWND']\n",
    "\n",
    "cv_errors = {}\n",
    "\n",
    "X_train_f, X_holdout_f, Y_train_f, Y_holdout_f = train_test_split(delays[features], delays[\"DEP_DEL15\"], test_size=0.2)\n",
    "\n",
    "for feature in features:\n",
    "    X_train = X_train_f[[feature]]\n",
    "    model = LogisticRegression()\n",
    "    cv_error = compute_CV_error(model, X_train, Y_train_f)\n",
    "    cv_errors[feature] = cv_error"
   ]
  },
  {
   "cell_type": "code",
   "execution_count": 315,
   "id": "6922d11d-704e-4588-8097-5658eabb9694",
   "metadata": {},
   "outputs": [
    {
     "data": {
      "text/plain": [
       "[('DAY_OF_WEEK', 0.48615794815459246),\n",
       " ('PLANE_AGE', 0.4861408077341912),\n",
       " ('CONCURRENT_FLIGHTS', 0.48610312119004),\n",
       " ('TMAX', 0.48609113887397964),\n",
       " ('NUMBER_OF_SEATS', 0.48604542660290073),\n",
       " ('MONTH', 0.4859974688338073),\n",
       " ('DISTANCE_GROUP', 0.48596580641945986),\n",
       " ('SNWD', 0.48583513044864857),\n",
       " ('SNOW', 0.4851235796670135),\n",
       " ('AWND', 0.484798442055956),\n",
       " ('PRCP', 0.483174672633675),\n",
       " ('SEGMENT_NUMBER', 0.4795996923594257)]"
      ]
     },
     "execution_count": 315,
     "metadata": {},
     "output_type": "execute_result"
    }
   ],
   "source": [
    "# Rank the predictors\n",
    "ranked = sorted(cv_errors.items(), key = lambda x: x[1], reverse = True)\n",
    "ranked"
   ]
  },
  {
   "cell_type": "code",
   "execution_count": 324,
   "id": "67db8e09-7213-45c5-a4eb-f7f2c7d16d91",
   "metadata": {},
   "outputs": [],
   "source": [
    "def compute_CV_error_2(model, X_train, Y_train):\n",
    "    kf = KFold(n_splits=5)\n",
    "    validation_errors = []\n",
    "    \n",
    "    for train_idx, valid_idx in kf.split(X_train):\n",
    "        # Use standard NumPy array slicing\n",
    "        # No .iloc this time\n",
    "        split_X_train, split_X_valid = X_train[train_idx], X_train[valid_idx]\n",
    "        split_Y_train, split_Y_valid = Y_train[train_idx], Y_train[valid_idx]\n",
    "        \n",
    "        model.fit(split_X_train, split_Y_train)\n",
    "        Y_pred = model.predict_proba(split_X_valid)\n",
    "        \n",
    "        error = log_loss(split_Y_valid, Y_pred)\n",
    "        validation_errors.append(error)\n",
    "    \n",
    "    return np.mean(validation_errors)"
   ]
  },
  {
   "cell_type": "code",
   "execution_count": 332,
   "id": "6736200d-1b83-4c9a-b54e-3ee2fa9da1ea",
   "metadata": {},
   "outputs": [
    {
     "name": "stdout",
     "output_type": "stream",
     "text": [
      "Average Log Loss for Model 1: 0.4870022157227142\n",
      "Average Log Loss for Model 2: 0.4869840195021009\n",
      "Average Log Loss for Model 3: 0.4869564271847019\n",
      "Average Log Loss for Model 4: 0.4868501398057224\n",
      "Average Log Loss for Model 5: 0.4867605369866809\n",
      "Average Log Loss for Model 6: 0.4865713911517412\n",
      "Average Log Loss for Model 7: 0.48654169312491347\n",
      "Average Log Loss for Model 8: 0.4863209943237129\n"
     ]
    }
   ],
   "source": [
    "# 8 models, stepwise subset selection\n",
    "ranked_features = [\"DAY_OF_WEEK\", 'PLANE_AGE', 'CONCURRENT_FLIGHTS', 'NUMBER_OF_SEATS', 'DISTANCE_GROUP', 'MONTH', 'TMAX', 'SNWD', 'SNOW', 'AWND', 'PRCP', 'SEGMENT_NUMBER']\n",
    "scaled = scaler.fit_transform(delays[ranked_features])\n",
    "\n",
    "X_train_f, X_holdout_f, Y_train_f, Y_holdout_f = train_test_split(scaled, delays[\"DEP_DEL15\"], test_size=0.2)\n",
    "Y_train_f = Y_train_f.reset_index(drop = True)\n",
    "avg_errors = []\n",
    "\n",
    "for i in range(8):\n",
    "    X_train_subset = X_train_f[:, :i+1]\n",
    "    model = LogisticRegression()\n",
    "    cv_error = compute_CV_error_2(model, X_train_subset, Y_train_f)\n",
    "    avg_errors.append(cv_error)\n",
    "\n",
    "for i, errors in enumerate(avg_errors):\n",
    "    print(f\"Average Log Loss for Model {i+1}: {errors}\")"
   ]
  },
  {
   "cell_type": "code",
   "execution_count": 345,
   "id": "9454830a-77e5-43d6-a615-ec75140e0f00",
   "metadata": {},
   "outputs": [
    {
     "name": "stdout",
     "output_type": "stream",
     "text": [
      "Model accuracy = 0.5483349000631829, precision = 0.20113077164694795, and recall = 0.47307502873091445\n"
     ]
    }
   ],
   "source": [
    "# Best model accuracy, precision, recall\n",
    "best_model = LogisticRegression()\n",
    "best_X_train = X_train_f[:, :8] \n",
    "best_model.fit(best_X_train, Y_train_f) \n",
    "\n",
    "# Predicting probabilities on the holdout set\n",
    "predicted_probabilities = best_model.predict_proba(X_holdout_f[:, :8])\n",
    "\n",
    "prop_delayed = np.mean(Y_train_f)\n",
    "\n",
    "# Generate predictions based on the new threshold\n",
    "preds_greater = (predicted_probabilities[:, 1] > prop_delayed).astype(int)\n",
    "\n",
    "accuracy = accuracy_score(Y_holdout_f, preds_greater)\n",
    "precision = precision_score(Y_holdout_f, preds_greater)\n",
    "recall = recall_score(Y_holdout_f, preds_greater)\n",
    "\n",
    "print(f\"Model accuracy = {accuracy}, precision = {precision}, and recall = {recall}\")"
   ]
  },
  {
   "cell_type": "markdown",
   "id": "b3ec2f72-61e0-4906-9a52-c96fd2bc2f68",
   "metadata": {},
   "source": [
    "#### Question 5.2\n",
    "\n",
    "Was the model with the best CV score the most complex model? If yes, why might complexity not have been a problem in this case? If no, why might a simpler model outperform the full model?"
   ]
  },
  {
   "cell_type": "markdown",
   "id": "8fb88e19-3831-4b4d-9d21-271c828d209a",
   "metadata": {},
   "source": [
    "**Your response**: Yes the model with all 8 predictors gave the least amount of loss which was the best CV score. This shows complexity might not have been a problem in this case. Instead, each additional predictor added meaningful information to the models ability to distinguish between delayed and non-delayed flights. The added variables didn't seem to lead to overfitting since the model improved as it became more complex. My gut tells me that these specific predictors are a good fit for the model's complexity which allow it to better reflect the underlying patterns in the flight delay data."
   ]
  },
  {
   "cell_type": "markdown",
   "id": "a432d3d7",
   "metadata": {},
   "source": [
    "## Submission\n",
    "\n",
    "Congratulations! You are finished with this assignment.\n",
    "\n",
    "To double-check your work, the cell below will rerun all of the autograder tests."
   ]
  },
  {
   "cell_type": "code",
   "execution_count": 346,
   "id": "69646389",
   "metadata": {},
   "outputs": [
    {
     "data": {
      "text/plain": [
       "q1_3 results: All test cases passed!\n",
       "\n",
       "q4_3 results: All test cases passed!"
      ]
     },
     "execution_count": 346,
     "metadata": {},
     "output_type": "execute_result"
    }
   ],
   "source": [
    "grader.check_all()"
   ]
  },
  {
   "cell_type": "markdown",
   "id": "ba412dec",
   "metadata": {},
   "source": [
    "Make sure you have run all cells in your notebook in order. Then execute the following commands in the File menu:\n",
    "\n",
    "* Save and Checkpoint\n",
    "* Close and Halt\n",
    "\n",
    "Then submit your notebook for Canvas Assignment Project 2."
   ]
  }
 ],
 "metadata": {
  "kernelspec": {
   "display_name": "Python 3 (ipykernel)",
   "language": "python",
   "name": "python3"
  },
  "language_info": {
   "codemirror_mode": {
    "name": "ipython",
    "version": 3
   },
   "file_extension": ".py",
   "mimetype": "text/x-python",
   "name": "python",
   "nbconvert_exporter": "python",
   "pygments_lexer": "ipython3",
   "version": "3.11.5"
  }
 },
 "nbformat": 4,
 "nbformat_minor": 5
}
